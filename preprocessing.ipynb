{
 "cells": [
  {
   "cell_type": "markdown",
   "metadata": {},
   "source": [
    "1.Data Preprocessing and Exploration"
   ]
  },
  {
   "cell_type": "code",
   "execution_count": null,
   "metadata": {
    "vscode": {
     "languageId": "plaintext"
    }
   },
   "outputs": [],
   "source": [
    "import pandas as pd\n",
    "import matplotlib.pyplot as plt\n",
    "import seaborn as sns\n",
    "from sklearn.model_selection import train_test_split\n",
    "from sklearn.linear_model import LinearRegression\n",
    "from sklearn.metrics import mean_squared_error, r2_score\n",
    "import numpy as np\n",
    "\n",
    "# Load the data\n",
    "df = pd.read_csv('Meta_Dataset.csv')\n",
    "\n",
    "# Convert 'Date' to datetime\n",
    "df['Date'] = pd.to_datetime(df['Date'])\n",
    "\n",
    "# Set 'Date' as index\n",
    "df.set_index('Date', inplace=True)\n",
    "\n",
    "# Display basic information about the dataset\n",
    "print(df.info())\n",
    "print(df.describe())"
   ]
  },
  {
   "cell_type": "markdown",
   "metadata": {},
   "source": [
    "2.Exploratory Data Analysis (EDA)"
   ]
  },
  {
   "cell_type": "code",
   "execution_count": null,
   "metadata": {
    "vscode": {
     "languageId": "plaintext"
    }
   },
   "outputs": [],
   "source": [
    "# Plot the closing price over time\n",
    "plt.figure(figsize=(12, 6))\n",
    "plt.plot(df.index, df['Close'])\n",
    "plt.title('Meta Stock Closing Price Over Time')\n",
    "plt.xlabel('Date')\n",
    "plt.ylabel('Closing Price')\n",
    "plt.xticks(rotation=45)\n",
    "plt.tight_layout()\n",
    "plt.show()\n",
    "\n",
    "# Distribution of closing prices\n",
    "plt.figure(figsize=(10, 6))\n",
    "sns.histplot(df['Close'], kde=True)\n",
    "plt.title('Distribution of Closing Prices')\n",
    "plt.xlabel('Closing Price')\n",
    "plt.show()\n",
    "\n",
    "# Box plot of price data\n",
    "plt.figure(figsize=(12, 6))\n",
    "df[['Open', 'High', 'Low', 'Close']].boxplot()\n",
    "plt.title('Box Plot of Price Data')\n",
    "plt.ylabel('Price')\n",
    "plt.show()\n",
    "\n",
    "# Correlation heatmap\n",
    "plt.figure(figsize=(10, 8))\n",
    "sns.heatmap(df.corr(), annot=True, cmap='coolwarm')\n",
    "plt.title('Correlation Heatmap of Features')\n",
    "plt.show()"
   ]
  },
  {
   "cell_type": "markdown",
   "metadata": {},
   "source": [
    "3.Time Series Analysis"
   ]
  },
  {
   "cell_type": "code",
   "execution_count": null,
   "metadata": {
    "vscode": {
     "languageId": "plaintext"
    }
   },
   "outputs": [],
   "source": [
    "from statsmodels.tsa.seasonal import seasonal_decompose\n",
    "\n",
    "# Perform time series decomposition\n",
    "result = seasonal_decompose(df['Close'], model='multiplicative', period=30)\n",
    "\n",
    "# Plot the decomposition\n",
    "fig, (ax1, ax2, ax3, ax4) = plt.subplots(4, 1, figsize=(12, 16))\n",
    "result.observed.plot(ax=ax1)\n",
    "ax1.set_title('Observed')\n",
    "result.trend.plot(ax=ax2)\n",
    "ax2.set_title('Trend')\n",
    "result.seasonal.plot(ax=ax3)\n",
    "ax3.set_title('Seasonal')\n",
    "result.resid.plot(ax=ax4)\n",
    "ax4.set_title('Residual')\n",
    "plt.tight_layout()\n",
    "plt.show()"
   ]
  },
  {
   "cell_type": "markdown",
   "metadata": {},
   "source": [
    "4.Machine Learning Model Implementation"
   ]
  },
  {
   "cell_type": "markdown",
   "metadata": {},
   "source": [
    "# Prepare the data for ML model\n",
    "df['Target'] = df['Close'].shift(-1)\n",
    "df = df.dropna()\n",
    "\n",
    "X = df[['Open', 'High', 'Low', 'Close', 'Volume']]\n",
    "y = df['Target']\n",
    "\n",
    "# Split the data\n",
    "X_train, X_test, y_train, y_test = train_test_split(X, y, test_size=0.2, random_state=42)\n",
    "\n",
    "# Train the model\n",
    "model = LinearRegression()\n",
    "model.fit(X_train, y_train)\n",
    "\n",
    "# Make predictions\n",
    "y_pred = model.predict(X_test)\n",
    "\n",
    "# Evaluate the model\n",
    "mse = mean_squared_error(y_test, y_pred)\n",
    "r2 = r2_score(y_test, y_pred)\n",
    "\n",
    "print(f\"Mean Squared Error: {mse}\")\n",
    "print(f\"R-squared Score: {r2}\")"
   ]
  },
  {
   "cell_type": "markdown",
   "metadata": {},
   "source": [
    "5.Prediction and Evaluation"
   ]
  },
  {
   "cell_type": "code",
   "execution_count": null,
   "metadata": {
    "vscode": {
     "languageId": "plaintext"
    }
   },
   "outputs": [],
   "source": [
    "# Plot predicted vs actual prices\n",
    "plt.figure(figsize=(12, 6))\n",
    "plt.scatter(y_test, y_pred, alpha=0.5)\n",
    "plt.plot([y_test.min(), y_test.max()], [y_test.min(), y_test.max()], 'r--', lw=2)\n",
    "plt.xlabel('Actual Price')\n",
    "plt.ylabel('Predicted Price')\n",
    "plt.title('Actual vs Predicted Stock Prices')\n",
    "plt.tight_layout()\n",
    "plt.show()\n",
    "\n",
    "# Plot the last 30 days of actual vs predicted prices\n",
    "last_30_days = df.index[-30:]\n",
    "actual_prices = df.loc[last_30_days, 'Close']\n",
    "predicted_prices = model.predict(df.loc[last_30_days, ['Open', 'High', 'Low', 'Close', 'Volume']])\n",
    "\n",
    "plt.figure(figsize=(12, 6))\n",
    "plt.plot(last_30_days, actual_prices, label='Actual Prices')\n",
    "plt.plot(last_30_days, predicted_prices, label='Predicted Prices')\n",
    "plt.title('Actual vs Predicted Stock Prices (Last 30 Days)')\n",
    "plt.xlabel('Date')\n",
    "plt.ylabel('Price')\n",
    "plt.legend()\n",
    "plt.xticks(rotation=45)\n",
    "plt.tight_layout()\n",
    "plt.show()"
   ]
  },
  {
   "cell_type": "markdown",
   "metadata": {},
   "source": [
    "Analysis Summary:\n",
    "\n",
    "1.The Meta stock price data spans from May 18, 2012, to April 15, 2024, providing a comprehensive history of the stock's performance.\n",
    "\n",
    "2.The closing price shows an overall upward trend over the years, with significant volatility and some major price movements.\n",
    "\n",
    "3.The stock price distribution is right-skewed, indicating more frequent lower prices with some high-value outliers.\n",
    "\n",
    "4.There is a strong correlation between Open, High, Low, and Close prices, which is expected in stock price data.\n",
    "\n",
    "5.The time series decomposition reveals a clear upward trend, with some seasonal patterns and residual noise.\n",
    "\n",
    "6.The Linear Regression model provides a baseline for stock price prediction, but its performance may be limited due to the complexity of stock price movements.\n",
    "\n",
    "7.The R-squared score indicates how much of the stock price variance is explained by the model. A higher R-squared (closer to 1) suggests better predictive power.\n",
    "\n",
    "8.The actual vs predicted price plot shows the model's accuracy, with points closer to the diagonal line indicating better predictions.\n",
    "\n",
    "9.The last 30 days comparison gives an idea of the model's short-term predictive capabilities.\n",
    "\n"
   ]
  }
 ],
 "metadata": {
  "language_info": {
   "name": "python"
  }
 },
 "nbformat": 4,
 "nbformat_minor": 2
}
